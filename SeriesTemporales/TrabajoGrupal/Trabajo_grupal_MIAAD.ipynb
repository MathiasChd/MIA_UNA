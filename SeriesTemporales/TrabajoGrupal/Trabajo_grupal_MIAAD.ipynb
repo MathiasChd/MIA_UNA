{
 "cells": [
  {
   "cell_type": "code",
   "execution_count": null,
   "id": "f038a8b3",
   "metadata": {},
   "outputs": [],
   "source": [
    "import pandas as pd\n",
    "import warnings\n",
    "warnings.filterwarnings('ignore', category=UserWarning, module='openpyxl')\n",
    "import numpy as np\n",
    "import sys"
   ]
  },
  {
   "cell_type": "code",
   "execution_count": 3,
   "id": "15750c8c",
   "metadata": {},
   "outputs": [
    {
     "name": "stderr",
     "output_type": "stream",
     "text": [
      "C:\\Users\\Mathias\\AppData\\Local\\Temp\\ipykernel_22672\\1971185955.py:5: FutureWarning: DataFrame.fillna with 'method' is deprecated and will raise in a future version. Use obj.ffill() or obj.bfill() instead.\n",
      "  return df.fillna(method='ffill')\n",
      "C:\\Users\\Mathias\\AppData\\Local\\Temp\\ipykernel_22672\\1971185955.py:5: FutureWarning: DataFrame.fillna with 'method' is deprecated and will raise in a future version. Use obj.ffill() or obj.bfill() instead.\n",
      "  return df.fillna(method='ffill')\n",
      "C:\\Users\\Mathias\\AppData\\Local\\Temp\\ipykernel_22672\\1971185955.py:5: FutureWarning: DataFrame.fillna with 'method' is deprecated and will raise in a future version. Use obj.ffill() or obj.bfill() instead.\n",
      "  return df.fillna(method='ffill')\n",
      "C:\\Users\\Mathias\\AppData\\Local\\Temp\\ipykernel_22672\\1971185955.py:5: FutureWarning: DataFrame.fillna with 'method' is deprecated and will raise in a future version. Use obj.ffill() or obj.bfill() instead.\n",
      "  return df.fillna(method='ffill')\n",
      "C:\\Users\\Mathias\\AppData\\Local\\Temp\\ipykernel_22672\\1971185955.py:5: FutureWarning: DataFrame.fillna with 'method' is deprecated and will raise in a future version. Use obj.ffill() or obj.bfill() instead.\n",
      "  return df.fillna(method='ffill')\n",
      "C:\\Users\\Mathias\\AppData\\Local\\Temp\\ipykernel_22672\\1971185955.py:5: FutureWarning: DataFrame.fillna with 'method' is deprecated and will raise in a future version. Use obj.ffill() or obj.bfill() instead.\n",
      "  return df.fillna(method='ffill')\n",
      "C:\\Users\\Mathias\\AppData\\Local\\Temp\\ipykernel_22672\\1971185955.py:5: FutureWarning: DataFrame.fillna with 'method' is deprecated and will raise in a future version. Use obj.ffill() or obj.bfill() instead.\n",
      "  return df.fillna(method='ffill')\n",
      "C:\\Users\\Mathias\\AppData\\Local\\Temp\\ipykernel_22672\\1971185955.py:5: FutureWarning: DataFrame.fillna with 'method' is deprecated and will raise in a future version. Use obj.ffill() or obj.bfill() instead.\n",
      "  return df.fillna(method='ffill')\n"
     ]
    }
   ],
   "source": [
    "# Función para cargar y procesar una hoja\n",
    "def cargar_hoja(archivo, hoja, skiprows, moneda):\n",
    "    df = pd.read_excel(archivo, sheet_name=hoja, skiprows=skiprows, usecols=lambda x: 'Unnamed' not in x)\n",
    "    df[\"Moneda\"] = moneda\n",
    "    return df.fillna(method='ffill')\n",
    "\n",
    "# Cargar todas las hojas\n",
    "df_eeff_mn = cargar_hoja(\"Boletín Bancos MN.xlsm\", \"1. EEFF\", 23, \"MN\")\n",
    "df_eeff_me = cargar_hoja(\"Boletín Bancos ME.xlsm\", \"1. EEFF\", 23, \"ME\")\n",
    "\n",
    "df_cartera_mn = cargar_hoja(\"Boletín Bancos MN.xlsm\", \"3. Cartera\", 23, \"MN\")\n",
    "df_cartera_me = cargar_hoja(\"Boletín Bancos ME.xlsm\", \"3. Cartera\", 23, \"ME\")\n",
    "\n",
    "df_sector_mn = cargar_hoja(\"Boletín Bancos MN.xlsm\", \"5. Cred. por sector\", 21, \"MN\")\n",
    "df_sector_me = cargar_hoja(\"Boletín Bancos ME.xlsm\", \"5. Cred. por sector\", 21, \"ME\")\n",
    "\n",
    "df_actividad_mn = cargar_hoja(\"Boletín Bancos MN.xlsm\", \"6. Cred. por acti\", 17, \"MN\")\n",
    "df_actividad_me = cargar_hoja(\"Boletín Bancos ME.xlsm\", \"6. Cred. por acti\", 17, \"ME\")\n",
    "\n",
    "# Unir MN y ME por tipo\n",
    "df_eeff = pd.concat([df_eeff_mn, df_eeff_me], ignore_index=True)\n",
    "df_cartera = pd.concat([df_cartera_mn, df_cartera_me], ignore_index=True)\n",
    "df_sector = pd.concat([df_sector_mn, df_sector_me], ignore_index=True)\n",
    "df_actividad = pd.concat([df_actividad_mn, df_actividad_me], ignore_index=True)\n",
    "\n",
    "# Guardar en un nuevo archivo Excel con varias hojas\n",
    "with pd.ExcelWriter(\"Boletin_Procesado.xlsx\", engine='openpyxl') as writer:\n",
    "    df_eeff.to_excel(writer, sheet_name=\"EEFF\", index=False)\n",
    "    df_cartera.to_excel(writer, sheet_name=\"Cartera\", index=False)\n",
    "    df_sector.to_excel(writer, sheet_name=\"Cred_por_sector\", index=False)\n",
    "    df_actividad.to_excel(writer, sheet_name=\"Cred_por_actividad\", index=False)"
   ]
  }
 ],
 "metadata": {
  "kernelspec": {
   "display_name": "Python 3",
   "language": "python",
   "name": "python3"
  },
  "language_info": {
   "codemirror_mode": {
    "name": "ipython",
    "version": 3
   },
   "file_extension": ".py",
   "mimetype": "text/x-python",
   "name": "python",
   "nbconvert_exporter": "python",
   "pygments_lexer": "ipython3",
   "version": "3.13.2"
  }
 },
 "nbformat": 4,
 "nbformat_minor": 5
}
